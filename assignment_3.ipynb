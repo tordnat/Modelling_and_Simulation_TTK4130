{
 "cells": [
  {
   "cell_type": "markdown",
   "metadata": {},
   "source": [
    "# Assignment 3"
   ]
  },
  {
   "cell_type": "markdown",
   "metadata": {},
   "source": [
    "## Problem 2: Pendulum on rotating disk\n",
    "\n",
    "![pendulum_rotating_disk.png](./pendulum_rotating_disk.png)\n",
    "\n",
    "\n",
    "The pendulum system shown consists of a flat surface, a disk that can roll on the surface, and a pendulum attached to the rim of the disk.\n",
    "We have attached an inertial reference frame 0 such that the x0-axis is aligned with the surface. We have also a moving reference frame at the center of the wheel. This reference frame will rotate with the wheel. Finally we have attached a third reference frame to the hinge point of the pendulum such that the y3-axis always will remain aligned with the pendulum rod. Note that the angle θ of the pendulum rod is given in terms of an axis that remains horizontal. You can assume no slip between the rim and the surface."
   ]
  },
  {
   "cell_type": "markdown",
   "metadata": {},
   "source": [
    "a) Find the linear velocity of point A\n",
    "\n",
    "We define the inertial reference frame 0"
   ]
  },
  {
   "cell_type": "code",
   "execution_count": 233,
   "metadata": {},
   "outputs": [],
   "source": [
    "from sympy import *\n",
    "from sympy.vector import CoordSys3D\n",
    "from scipy.spatial.transform import Rotation as R\n",
    "from sympy.physics.mechanics import *\n",
    "import numpy as np\n",
    "from matplotlib import pyplot as plt\n",
    "\n",
    "init_printing(use_latex='mathjax')\n",
    "\n",
    "# Define intertial reference frames and origin\n",
    "O = Point('O')\n",
    "frame_0 = ReferenceFrame('frame_0')\n",
    "\n",
    "O.set_vel(frame_0, 0)\n"
   ]
  },
  {
   "cell_type": "markdown",
   "metadata": {},
   "source": [
    "We then define the necessary time-dependent variables"
   ]
  },
  {
   "cell_type": "code",
   "execution_count": 234,
   "metadata": {},
   "outputs": [],
   "source": [
    "omega = dynamicsymbols('omega') # Angular velocity of disk \n",
    "theta = dynamicsymbols('theta') # Angle of pendulum\n",
    "phi   = dynamicsymbols('phi')   # Angle of disk\n",
    "# Parameters\n",
    "r, L, = symbols('r, L')"
   ]
  },
  {
   "cell_type": "markdown",
   "metadata": {},
   "source": [
    "We then define the necessary frames relative to frame 0"
   ]
  },
  {
   "cell_type": "code",
   "execution_count": 247,
   "metadata": {},
   "outputs": [
    {
     "data": {
      "text/latex": [
       "$\\displaystyle \\left[\\begin{matrix}L \\left(\\frac{d}{d t} \\phi{\\left(t \\right)} + \\frac{d}{d t} \\theta{\\left(t \\right)}\\right) \\cos{\\left(\\phi{\\left(t \\right)} + \\theta{\\left(t \\right)} \\right)} - r \\sin{\\left(\\phi{\\left(t \\right)} \\right)} \\frac{d}{d t} \\phi{\\left(t \\right)} - r \\frac{d}{d t} \\phi{\\left(t \\right)}\\\\L \\left(\\frac{d}{d t} \\phi{\\left(t \\right)} + \\frac{d}{d t} \\theta{\\left(t \\right)}\\right) \\sin{\\left(\\phi{\\left(t \\right)} + \\theta{\\left(t \\right)} \\right)} + r \\cos{\\left(\\phi{\\left(t \\right)} \\right)} \\frac{d}{d t} \\phi{\\left(t \\right)}\\\\0\\end{matrix}\\right]$"
      ],
      "text/plain": [
       "⎡  ⎛d          d       ⎞                                d            d       ⎤\n",
       "⎢L⋅⎜──(φ(t)) + ──(θ(t))⎟⋅cos(φ(t) + θ(t)) - r⋅sin(φ(t))⋅──(φ(t)) - r⋅──(φ(t))⎥\n",
       "⎢  ⎝dt         dt      ⎠                                dt           dt      ⎥\n",
       "⎢                                                                            ⎥\n",
       "⎢        ⎛d          d       ⎞                                d              ⎥\n",
       "⎢      L⋅⎜──(φ(t)) + ──(θ(t))⎟⋅sin(φ(t) + θ(t)) + r⋅cos(φ(t))⋅──(φ(t))       ⎥\n",
       "⎢        ⎝dt         dt      ⎠                                dt             ⎥\n",
       "⎢                                                                            ⎥\n",
       "⎣                                     0                                      ⎦"
      ]
     },
     "execution_count": 247,
     "metadata": {},
     "output_type": "execute_result"
    }
   ],
   "source": [
    "frame_1 = frame_0.orientnew('frame_1', 'Axis', [phi, frame_0.z])\n",
    "frame_2 = frame_1.orientnew('frame_2', 'Axis', [theta, frame_0.z])\n",
    "\n",
    "O_frame_1 = Point('O_frame_1')\n",
    "O_frame_1.set_pos(O, -phi*r*frame_0.x + r*frame_0.y)\n",
    "\n",
    "A = Point('A')\n",
    "R = Point('R')\n",
    "R.set_pos(O_frame_1, r*frame_1.x)\n",
    "A.set_pos(R, -L*frame_2.y)\n",
    "\n",
    "A_in_0 = A.pos_from(O)\n",
    "A_in_0_vel = A_in_0.dt(frame_0)\n",
    "A_in_0_accel = A_in_0_vel.dt(frame_0).to_matrix(frame_0).simplify()\n",
    "\n",
    "A_in_0_vel.to_matrix(frame_0).simplify()"
   ]
  },
  {
   "cell_type": "code",
   "execution_count": 251,
   "metadata": {},
   "outputs": [
    {
     "data": {
      "text/latex": [
       "$\\displaystyle \\left[\\begin{matrix}- L \\left(\\frac{d}{d t} \\phi{\\left(t \\right)} + \\frac{d}{d t} \\theta{\\left(t \\right)}\\right)^{2} \\sin{\\left(\\phi{\\left(t \\right)} + \\theta{\\left(t \\right)} \\right)} + L \\left(\\frac{d^{2}}{d t^{2}} \\phi{\\left(t \\right)} + \\frac{d^{2}}{d t^{2}} \\theta{\\left(t \\right)}\\right) \\cos{\\left(\\phi{\\left(t \\right)} + \\theta{\\left(t \\right)} \\right)} - r \\sin{\\left(\\phi{\\left(t \\right)} \\right)} \\frac{d^{2}}{d t^{2}} \\phi{\\left(t \\right)} - r \\cos{\\left(\\phi{\\left(t \\right)} \\right)} \\left(\\frac{d}{d t} \\phi{\\left(t \\right)}\\right)^{2} - r \\frac{d^{2}}{d t^{2}} \\phi{\\left(t \\right)}\\\\L \\left(\\frac{d}{d t} \\phi{\\left(t \\right)} + \\frac{d}{d t} \\theta{\\left(t \\right)}\\right)^{2} \\cos{\\left(\\phi{\\left(t \\right)} + \\theta{\\left(t \\right)} \\right)} + L \\left(\\frac{d^{2}}{d t^{2}} \\phi{\\left(t \\right)} + \\frac{d^{2}}{d t^{2}} \\theta{\\left(t \\right)}\\right) \\sin{\\left(\\phi{\\left(t \\right)} + \\theta{\\left(t \\right)} \\right)} - r \\sin{\\left(\\phi{\\left(t \\right)} \\right)} \\left(\\frac{d}{d t} \\phi{\\left(t \\right)}\\right)^{2} + r \\cos{\\left(\\phi{\\left(t \\right)} \\right)} \\frac{d^{2}}{d t^{2}} \\phi{\\left(t \\right)}\\\\0\\end{matrix}\\right]$"
      ],
      "text/plain": [
       "⎡                         2                      ⎛  2           2      ⎞      \n",
       "⎢    ⎛d          d       ⎞                       ⎜ d           d       ⎟      \n",
       "⎢- L⋅⎜──(φ(t)) + ──(θ(t))⎟ ⋅sin(φ(t) + θ(t)) + L⋅⎜───(φ(t)) + ───(θ(t))⎟⋅cos(φ\n",
       "⎢    ⎝dt         dt      ⎠                       ⎜  2           2      ⎟      \n",
       "⎢                                                ⎝dt          dt       ⎠      \n",
       "⎢                                                                             \n",
       "⎢                               2                      ⎛  2           2      ⎞\n",
       "⎢          ⎛d          d       ⎞                       ⎜ d           d       ⎟\n",
       "⎢        L⋅⎜──(φ(t)) + ──(θ(t))⎟ ⋅cos(φ(t) + θ(t)) + L⋅⎜───(φ(t)) + ───(θ(t))⎟\n",
       "⎢          ⎝dt         dt      ⎠                       ⎜  2           2      ⎟\n",
       "⎢                                                      ⎝dt          dt       ⎠\n",
       "⎢                                                                             \n",
       "⎣                                                                           0 \n",
       "\n",
       "                            2                               2       2      ⎤\n",
       "                           d                      ⎛d       ⎞       d       ⎥\n",
       "(t) + θ(t)) - r⋅sin(φ(t))⋅───(φ(t)) - r⋅cos(φ(t))⋅⎜──(φ(t))⎟  - r⋅───(φ(t))⎥\n",
       "                            2                     ⎝dt      ⎠        2      ⎥\n",
       "                          dt                                      dt       ⎥\n",
       "                                                                           ⎥\n",
       "                                          2                 2              ⎥\n",
       "                                ⎛d       ⎞                 d               ⎥\n",
       "⋅sin(φ(t) + θ(t)) - r⋅sin(φ(t))⋅⎜──(φ(t))⎟  + r⋅cos(φ(t))⋅───(φ(t))        ⎥\n",
       "                                ⎝dt      ⎠                  2              ⎥\n",
       "                                                          dt               ⎥\n",
       "                                                                           ⎥\n",
       "                                                                           ⎦"
      ]
     },
     "execution_count": 251,
     "metadata": {},
     "output_type": "execute_result"
    }
   ],
   "source": [
    "A_in_0_accel = A_in_0_vel.dt(frame_0).to_matrix(frame_0).simplify()\n",
    "A_in_0_accel\n"
   ]
  },
  {
   "cell_type": "markdown",
   "metadata": {},
   "source": [
    "That is,\n",
    "$\\left[\\begin{matrix}- L \\left(\\frac{d}{d t} \\phi{\\left(t \\right)} + \\frac{d}{d t} \\theta{\\left(t \\right)}\\right)^{2} \\sin{\\left(\\phi{\\left(t \\right)} + \\theta{\\left(t \\right)} \\right)} + L \\left(\\frac{d^{2}}{d t^{2}} \\phi{\\left(t \\right)} + \\frac{d^{2}}{d t^{2}} \\theta{\\left(t \\right)}\\right) \\cos{\\left(\\phi{\\left(t \\right)} + \\theta{\\left(t \\right)} \\right)} - r \\sin{\\left(\\phi{\\left(t \\right)} \\right)} \\frac{d^{2}}{d t^{2}} \\phi{\\left(t \\right)} - r \\cos{\\left(\\phi{\\left(t \\right)} \\right)} \\left(\\frac{d}{d t} \\phi{\\left(t \\right)}\\right)^{2} - r \\frac{d^{2}}{d t^{2}} \\phi{\\left(t \\right)}\\\\L \\left(\\frac{d}{d t} \\phi{\\left(t \\right)} + \\frac{d}{d t} \\theta{\\left(t \\right)}\\right)^{2} \\cos{\\left(\\phi{\\left(t \\right)} + \\theta{\\left(t \\right)} \\right)} + L \\left(\\frac{d^{2}}{d t^{2}} \\phi{\\left(t \\right)} + \\frac{d^{2}}{d t^{2}} \\theta{\\left(t \\right)}\\right) \\sin{\\left(\\phi{\\left(t \\right)} + \\theta{\\left(t \\right)} \\right)} - r \\sin{\\left(\\phi{\\left(t \\right)} \\right)} \\left(\\frac{d}{d t} \\phi{\\left(t \\right)}\\right)^{2} + r \\cos{\\left(\\phi{\\left(t \\right)} \\right)} \\frac{d^{2}}{d t^{2}} \\phi{\\left(t \\right)}\\\\0\\end{matrix}\\right]\n",
    "$"
   ]
  },
  {
   "cell_type": "markdown",
   "metadata": {},
   "source": [
    "## Problem 4: Linked mechanism\n",
    "\n",
    "We'll use sympy to define our refrence frames and rigid bodies\n",
    "\n",
    "![two_link_rb.png](./two_link_rb.png)\n",
    "\n",
    "(a) Find the position of the points B and C relative to point A, expressed in terms of the reference\n",
    "frame x0y0z0. The positions should be expressed as functions of q = [q1, q2]T."
   ]
  },
  {
   "cell_type": "code",
   "execution_count": 237,
   "metadata": {},
   "outputs": [],
   "source": [
    "# Define intertial reference frames and origin\n",
    "\n",
    "frame_0 = ReferenceFrame('frame_0')\n",
    "O = Point('O')\n",
    "\n",
    "O.set_vel(frame_0, 0)"
   ]
  },
  {
   "cell_type": "markdown",
   "metadata": {},
   "source": [
    "We then define rigid body frames relative to the 0-frame"
   ]
  },
  {
   "cell_type": "code",
   "execution_count": 238,
   "metadata": {},
   "outputs": [],
   "source": [
    "q1, q2 = dynamicsymbols('q1, q2') # Angles for both links\n",
    "L1, L2 = symbols('L_1, L_2')    # Parameters\n",
    "\n",
    "frame_1 = frame_0.orientnew('frame_1', 'Axis', [q1, frame_0.z])\n",
    "frame_2 = frame_1.orientnew('frame_2', 'Axis', [q2, frame_1.y])"
   ]
  },
  {
   "cell_type": "markdown",
   "metadata": {},
   "source": [
    "Then we define the points B and C in their reference frames, and find matrix expressions for B and C represented in frame 0."
   ]
  },
  {
   "cell_type": "code",
   "execution_count": 239,
   "metadata": {},
   "outputs": [
    {
     "name": "stdout",
     "output_type": "stream",
     "text": [
      "⎡L₁⋅cos(q₁(t))⎤\n",
      "⎢             ⎥\n",
      "⎢L₁⋅sin(q₁(t))⎥\n",
      "⎢             ⎥\n",
      "⎣      0      ⎦\n",
      "⎡L₁⋅cos(q₁(t)) + L₂⋅cos(q₁(t))⋅cos(q₂(t))⎤\n",
      "⎢                                        ⎥\n",
      "⎢L₁⋅sin(q₁(t)) + L₂⋅sin(q₁(t))⋅cos(q₂(t))⎥\n",
      "⎢                                        ⎥\n",
      "⎣             -L₂⋅sin(q₂(t))             ⎦\n"
     ]
    }
   ],
   "source": [
    "B = Point('B')\n",
    "C = Point('C')\n",
    "\n",
    "B.set_pos(O, L1*frame_1.x)\n",
    "C.set_pos(B, L2*frame_2.x)\n",
    "\n",
    "B_frame_0 = B.pos_from(O).express(frame_0)\n",
    "C_frame_0 = C.pos_from(O).express(frame_0)\n",
    "pretty_print(B_frame_0.to_matrix(frame_0))\n",
    "pretty_print(C.pos_from(O).express(frame_0).to_matrix(frame_0))"
   ]
  },
  {
   "cell_type": "markdown",
   "metadata": {},
   "source": [
    "From the symbolic expressions we see that\n",
    "\n",
    "$ \\vec{r}_{{C}/{0}} = \\left[\\begin{matrix}L_{1} \\cos{\\left(q_{1}{\\left(t \\right)} \\right)} + L_{2} \\cos{\\left(q_{1}{\\left(t \\right)} \\right)} \\cos{\\left(q_{2}{\\left(t \\right)} \\right)}\\\\L_{1} \\sin{\\left(q_{1}{\\left(t \\right)} \\right)} + L_{2} \\sin{\\left(q_{1}{\\left(t \\right)} \\right)} \\cos{\\left(q_{2}{\\left(t \\right)} \\right)}\\\\- L_{2} \\sin{\\left(q_{2}{\\left(t \\right)} \\right)}\\end{matrix}\\right]\n",
    "$\n",
    "\n",
    "$\\vec{r}_{B/0} = \\left[\\begin{matrix}L_{1} \\cos{\\left(q_{1}{\\left(t \\right)} \\right)}\\\\L_{1} \\sin{\\left(q_{1}{\\left(t \\right)} \\right)}\\\\0\\end{matrix}\\right]\n",
    "$"
   ]
  },
  {
   "cell_type": "markdown",
   "metadata": {},
   "source": [
    "(b) Find the angular velocity of the bodies AB and BC expressed in terms of the reference frame\n",
    "x0y0z0."
   ]
  },
  {
   "cell_type": "code",
   "execution_count": 240,
   "metadata": {},
   "outputs": [],
   "source": [
    "frame_1_ang_vel_in_0 =  frame_1.ang_vel_in(frame_0)\n",
    "frame_2_ang_vel_in_0 =  frame_2.ang_vel_in(frame_0) # I love python\n"
   ]
  },
  {
   "cell_type": "markdown",
   "metadata": {},
   "source": [
    "Evaluating the sympy expressions gives us\n",
    "\n",
    "$\n",
    "\\dot{\\omega}_{frame_1/0} = \\left[\\begin{matrix}0\\\\0\\\\\\frac{d}{d t} q_{1}{\\left(t \\right)}\\end{matrix}\\right], \n",
    "\\dot{\\omega}_{frame_2/0}= \\left[\\begin{matrix}- \\sin{\\left(q_{1}{\\left(t \\right)} \\right)} \\frac{d}{d t} q_{2}{\\left(t \\right)}\\\\\\cos{\\left(q_{1}{\\left(t \\right)} \\right)} \\frac{d}{d t} q_{2}{\\left(t \\right)}\\\\\\frac{d}{d t} q_{1}{\\left(t \\right)}\\end{matrix}\\right]\n",
    "$"
   ]
  },
  {
   "cell_type": "markdown",
   "metadata": {},
   "source": [
    "(c) Find the linear velocity of the points B and C expressed in terms of the reference frame x0y0z0."
   ]
  },
  {
   "cell_type": "code",
   "execution_count": 241,
   "metadata": {},
   "outputs": [
    {
     "data": {
      "text/latex": [
       "$\\displaystyle \\left[\\begin{matrix}- L_{1} \\sin{\\left(q_{1}{\\left(t \\right)} \\right)} \\frac{d}{d t} q_{1}{\\left(t \\right)}\\\\L_{1} \\cos{\\left(q_{1}{\\left(t \\right)} \\right)} \\frac{d}{d t} q_{1}{\\left(t \\right)}\\\\0\\end{matrix}\\right]$"
      ],
      "text/plain": [
       "⎡               d        ⎤\n",
       "⎢-L₁⋅sin(q₁(t))⋅──(q₁(t))⎥\n",
       "⎢               dt       ⎥\n",
       "⎢                        ⎥\n",
       "⎢              d         ⎥\n",
       "⎢L₁⋅cos(q₁(t))⋅──(q₁(t)) ⎥\n",
       "⎢              dt        ⎥\n",
       "⎢                        ⎥\n",
       "⎣           0            ⎦"
      ]
     },
     "execution_count": 241,
     "metadata": {},
     "output_type": "execute_result"
    }
   ],
   "source": [
    "B_lin_vel_in_0 = cross(frame_1_ang_vel_in_0, B.pos_from(O).express(frame_0))\n",
    "B_lin_vel_in_0.to_matrix(frame_0)"
   ]
  },
  {
   "cell_type": "code",
   "execution_count": 242,
   "metadata": {},
   "outputs": [
    {
     "data": {
      "text/latex": [
       "$\\displaystyle \\left[\\begin{matrix}- L_{1} \\sin{\\left(q_{1}{\\left(t \\right)} \\right)} \\frac{d}{d t} q_{1}{\\left(t \\right)} - L_{2} \\sin{\\left(q_{1}{\\left(t \\right)} \\right)} \\cos{\\left(q_{2}{\\left(t \\right)} \\right)} \\frac{d}{d t} q_{1}{\\left(t \\right)} - L_{2} \\sin{\\left(q_{2}{\\left(t \\right)} \\right)} \\cos{\\left(q_{1}{\\left(t \\right)} \\right)} \\frac{d}{d t} q_{2}{\\left(t \\right)}\\\\L_{1} \\cos{\\left(q_{1}{\\left(t \\right)} \\right)} \\frac{d}{d t} q_{1}{\\left(t \\right)} - L_{2} \\sin{\\left(q_{1}{\\left(t \\right)} \\right)} \\sin{\\left(q_{2}{\\left(t \\right)} \\right)} \\frac{d}{d t} q_{2}{\\left(t \\right)} + L_{2} \\cos{\\left(q_{1}{\\left(t \\right)} \\right)} \\cos{\\left(q_{2}{\\left(t \\right)} \\right)} \\frac{d}{d t} q_{1}{\\left(t \\right)}\\\\- L_{2} \\cos{\\left(q_{2}{\\left(t \\right)} \\right)} \\frac{d}{d t} q_{2}{\\left(t \\right)}\\end{matrix}\\right]$"
      ],
      "text/plain": [
       "⎡                d                                    d                       \n",
       "⎢- L₁⋅sin(q₁(t))⋅──(q₁(t)) - L₂⋅sin(q₁(t))⋅cos(q₂(t))⋅──(q₁(t)) - L₂⋅sin(q₂(t)\n",
       "⎢                dt                                   dt                      \n",
       "⎢                                                                             \n",
       "⎢               d                                    d                        \n",
       "⎢ L₁⋅cos(q₁(t))⋅──(q₁(t)) - L₂⋅sin(q₁(t))⋅sin(q₂(t))⋅──(q₂(t)) + L₂⋅cos(q₁(t))\n",
       "⎢               dt                                   dt                       \n",
       "⎢                                                                             \n",
       "⎢                                                    d                        \n",
       "⎢                                     -L₂⋅cos(q₂(t))⋅──(q₂(t))                \n",
       "⎣                                                    dt                       \n",
       "\n",
       "             d        ⎤\n",
       ")⋅cos(q₁(t))⋅──(q₂(t))⎥\n",
       "             dt       ⎥\n",
       "                      ⎥\n",
       "            d         ⎥\n",
       "⋅cos(q₂(t))⋅──(q₁(t)) ⎥\n",
       "            dt        ⎥\n",
       "                      ⎥\n",
       "                      ⎥\n",
       "                      ⎥\n",
       "                      ⎦"
      ]
     },
     "execution_count": 242,
     "metadata": {},
     "output_type": "execute_result"
    }
   ],
   "source": [
    "C_lin_vel_in_0 = C.pos_from(O).express(frame_0).dt(frame_0)\n",
    "C_lin_vel_in_0 = C_lin_vel_in_0.to_matrix(frame_0)\n",
    "C_lin_vel_in_0.simplify()\n"
   ]
  },
  {
   "cell_type": "markdown",
   "metadata": {},
   "source": [
    "(d) Express the linear velocity of point C on the form v_C = J(q)qdot ̇"
   ]
  },
  {
   "cell_type": "code",
   "execution_count": 245,
   "metadata": {},
   "outputs": [
    {
     "name": "stdout",
     "output_type": "stream",
     "text": [
      "⎡-L₁⋅sin(q₁(t)) - L₂⋅sin(q₁(t))⋅cos(q₂(t))  -L₂⋅sin(q₂(t))⋅cos(q₁(t))⎤\n",
      "⎢                                                                    ⎥\n",
      "⎢L₁⋅cos(q₁(t)) + L₂⋅cos(q₁(t))⋅cos(q₂(t))   -L₂⋅sin(q₁(t))⋅sin(q₂(t))⎥\n",
      "⎢                                                                    ⎥\n",
      "⎣                    0                           -L₂⋅cos(q₂(t))      ⎦\n"
     ]
    },
    {
     "data": {
      "text/plain": [
       "True"
      ]
     },
     "execution_count": 245,
     "metadata": {},
     "output_type": "execute_result"
    }
   ],
   "source": [
    "\n",
    "q1dot = diff(q1)\n",
    "q2dot = diff(q2)\n",
    "qdot = Matrix([q1dot, q2dot])\n",
    "\n",
    "\n",
    "J = Matrix().zeros(3,2)\n",
    "\n",
    "for i in range(3):\n",
    "        for j in range(2):\n",
    "                J[i,j] += C_lin_vel_in_0[i].collect(qdot[j]).coeff(qdot[j])\n",
    "\n",
    "\n",
    "# Extract coefficients of q1dot and q2dot\n",
    "J\n",
    "F = J*qdot\n",
    "F = F.expand()\n",
    "pretty_print(J)\n",
    "F == C_lin_vel_in_0"
   ]
  },
  {
   "cell_type": "markdown",
   "metadata": {},
   "source": [
    "# Disclaimer\n",
    "I collaborated with Svein Isdahl on the coding part of this assignment. Similarities may occur. "
   ]
  }
 ],
 "metadata": {
  "kernelspec": {
   "display_name": "Python 3",
   "language": "python",
   "name": "python3"
  },
  "language_info": {
   "codemirror_mode": {
    "name": "ipython",
    "version": 3
   },
   "file_extension": ".py",
   "mimetype": "text/x-python",
   "name": "python",
   "nbconvert_exporter": "python",
   "pygments_lexer": "ipython3",
   "version": "3.11.6"
  }
 },
 "nbformat": 4,
 "nbformat_minor": 2
}
